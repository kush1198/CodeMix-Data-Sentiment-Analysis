{
  "nbformat": 4,
  "nbformat_minor": 0,
  "metadata": {
    "kernelspec": {
      "name": "python3",
      "display_name": "Python 3"
    },
    "language_info": {
      "codemirror_mode": {
        "name": "ipython",
        "version": 3
      },
      "file_extension": ".py",
      "mimetype": "text/x-python",
      "name": "python",
      "nbconvert_exporter": "python",
      "pygments_lexer": "ipython3",
      "version": "3.6.6"
    },
    "colab": {
      "name": "Untitled.ipynb",
      "provenance": []
    },
    "accelerator": "GPU"
  },
  "cells": [
    {
      "cell_type": "code",
      "metadata": {
        "id": "ZPDDXI7bvm7a",
        "colab_type": "code",
        "outputId": "da5ccbce-24ed-4287-f7bf-e01a701df65b",
        "colab": {
          "base_uri": "https://localhost:8080/",
          "height": 126
        }
      },
      "source": [
        "from google.colab import drive\n",
        "drive.mount('/content/drive')"
      ],
      "execution_count": 0,
      "outputs": [
        {
          "output_type": "stream",
          "text": [
            "Go to this URL in a browser: https://accounts.google.com/o/oauth2/auth?client_id=947318989803-6bn6qk8qdgf4n4g3pfee6491hc0brc4i.apps.googleusercontent.com&redirect_uri=urn%3Aietf%3Awg%3Aoauth%3A2.0%3Aoob&scope=email%20https%3A%2F%2Fwww.googleapis.com%2Fauth%2Fdocs.test%20https%3A%2F%2Fwww.googleapis.com%2Fauth%2Fdrive%20https%3A%2F%2Fwww.googleapis.com%2Fauth%2Fdrive.photos.readonly%20https%3A%2F%2Fwww.googleapis.com%2Fauth%2Fpeopleapi.readonly&response_type=code\n",
            "\n",
            "Enter your authorization code:\n",
            "··········\n",
            "Mounted at /content/drive\n"
          ],
          "name": "stdout"
        }
      ]
    },
    {
      "cell_type": "code",
      "metadata": {
        "id": "_W-PihZewZO8",
        "colab_type": "code",
        "outputId": "b94e30ba-18a6-4ff2-92b2-bb5ff22fe057",
        "colab": {
          "base_uri": "https://localhost:8080/",
          "height": 35
        }
      },
      "source": [
        "cd /content/drive/My Drive/Colab Notebooks/HAN"
      ],
      "execution_count": 0,
      "outputs": [
        {
          "output_type": "stream",
          "text": [
            "/content/drive/My Drive/Colab Notebooks/HAN\n"
          ],
          "name": "stdout"
        }
      ]
    },
    {
      "cell_type": "code",
      "metadata": {
        "id": "5CjD9A9BeqLf",
        "colab_type": "code",
        "outputId": "57622b70-97c1-4496-89f8-f2b239c3936d",
        "colab": {
          "base_uri": "https://localhost:8080/",
          "height": 35
        }
      },
      "source": [
        "ls"
      ],
      "execution_count": 0,
      "outputs": [
        {
          "output_type": "stream",
          "text": [
            "IIITH_Codemixed.txt  MyNormalizer.py  \u001b[0m\u001b[01;34m__pycache__\u001b[0m/  Untitled7.ipynb\n"
          ],
          "name": "stdout"
        }
      ]
    },
    {
      "cell_type": "code",
      "metadata": {
        "id": "BvehAKxA7GkV",
        "colab_type": "code",
        "colab": {}
      },
      "source": [
        "\n",
        "import numpy as np\n",
        "import h5py\n",
        "import pickle\n",
        "from copy import deepcopy\n",
        "from sklearn.metrics import confusion_matrix\n",
        "from sklearn.model_selection import train_test_split\n",
        "from keras.models import Sequential\n",
        "from keras.preprocessing import sequence\n",
        "from keras import backend as K\n",
        "from keras.layers.core import Dense, Dropout, Activation\n",
        "from keras.layers.embeddings import Embedding\n",
        "from keras.layers.recurrent import LSTM, GRU\n",
        "from keras.layers.convolutional import Convolution1D, MaxPooling1D\n",
        "from keras.layers import Conv1D\n",
        "import tensorflow as tf\n",
        "\n",
        "from keras.utils import np_utils\n",
        "from MyNormalizer import token\n",
        "\n",
        "################# GLOBAL VARIABLES #####################\n",
        "\n",
        "inputdatasetfilename = 'IIITH_Codemixed.txt'\n",
        "\n",
        "\n",
        "#Data I/O formatting\n",
        "SEPERATOR = '\\t'\n",
        "DATA_COLUMN = 1\n",
        "LABEL_COLUMN = 3\n",
        "LABELS = ['0','1','2'] # 0 -> Negative, 1-> Neutral, 2-> Positive\n",
        "mapping_char2num = {}\n",
        "mapping_num2char = {}\n",
        "MAXLEN = 200\n",
        "\n",
        "#LSTM Model Parameters\n",
        "#Embedding\n",
        "MAX_FEATURES = 0\n",
        "embedding_size = 128\n",
        "# Convolution\n",
        "filter_length = 3\n",
        "nb_filter = 128\n",
        "pool_length = 3\n",
        "# LSTM\n",
        "lstm_output_size = 128\n",
        "# Training\n",
        "batch_size = 128\n",
        "number_of_epochs = 80\n",
        "numclasses = 3\n",
        "test_size = 0.2\n",
        "########################################################\n",
        "\n",
        "def parse(filename):\n",
        "\t\"\"\"\n",
        "\tPurpose -> Data I/O\n",
        "\tInput   -> Data file containing sentences and labels along with the global variables\n",
        "\tOutput  -> Sentences cleaned up in list of lists format along with the labels as a numpy array\n",
        "\t\"\"\"\n",
        "\t#Reads the files and splits data into individual lines\n",
        "\tf=open(filename,'r',encoding='utf-8')\n",
        "\tlines = f.read().lower()\n",
        "\tlines = lines.lower().split('\\n')[:-1]\n",
        "\n",
        "\tX_train = []\n",
        "\tY_train = []\n",
        "\t\n",
        "\t#Processes individual lines\n",
        "\tfor line in lines:\n",
        "\t\t# Seperator for the current dataset. Currently '\\t'. \n",
        "\t\tline = line.split(seperator)\n",
        "\t\t#Token is the function which implements basic preprocessing as mentioned in our paper\n",
        "\t\ttokenized_lines = token(line[datacol])\n",
        "\t\t\n",
        "\t\t#Creates character lists\n",
        "\t\tchar_list = []\n",
        "\t\tfor words in tokenized_lines:\n",
        "\t\t\tfor char in words:\n",
        "\t\t\t\tchar_list.append(char)\n",
        "\t\t\tchar_list.append(' ')\n",
        "\t\t#print(char_list) - Debugs the character list created\n",
        "\t\tX_train.append(char_list)\n",
        "\t\t\n",
        "\t\t#Appends labels\n",
        "\t\tif line[labelcol] == labels[0]:\n",
        "\t\t\tY_train.append(0)\n",
        "\t\tif line[labelcol] == labels[1]:\n",
        "\t\t\tY_train.append(1)\n",
        "\t\tif line[labelcol] == labels[2]:\n",
        "\t\t\tY_train.append(2)\n",
        "\t\n",
        "\t#Converts Y_train to a numpy array\t\n",
        "\tY_train = np.asarray(Y_train)\n",
        "\tassert(len(X_train) == Y_train.shape[0])\n",
        "\n",
        "\treturn [X_train,Y_train]\n",
        "\n",
        "def convert_char2num(mapping_n2c,mapping_c2n,trainwords,maxlen):\n",
        "\t\"\"\"\n",
        "\tPurpose -> Convert characters to integers, a unique value for every character\n",
        "\tInput   -> Training data (In list of lists format) along with global variables\n",
        "\tOutput  -> Converted training data along with global variables\n",
        "\t\"\"\"\n",
        "\tallchars = []\n",
        "\terrors = 0\n",
        "\n",
        "\t#Creates a list of all characters present in the dataset\n",
        "\tfor line in trainwords:\n",
        "\t\ttry:\n",
        "\t\t\tallchars = set(allchars+line)\n",
        "\t\t\tallchars = list(allchars)\n",
        "\t\texcept:\n",
        "\t\t\terrors += 1\n",
        "\n",
        "\t#print(errors) #Debugging\n",
        "\t#print(allchars) #Debugging \n",
        "\n",
        "\t#Creates character dictionaries for the characters\n",
        "\tcharno = 0\n",
        "\tfor char in allchars:\n",
        "\t\tmapping_char2num[char] = charno\n",
        "\t\tmapping_num2char[charno] = char\n",
        "\t\tcharno += 1\n",
        "\n",
        "\tassert(len(allchars)==charno) #Checks\n",
        "\n",
        "\t#Converts the data from characters to numbers using dictionaries \n",
        "\tX_train = []\n",
        "\tfor line in trainwords:\n",
        "\t\tchar_list=[]\n",
        "\t\tfor letter in line:\n",
        "\t\t\tchar_list.append(mapping_char2num[letter])\n",
        "\t\t#print(no) -- Debugs the number mappings\n",
        "\t\tX_train.append(char_list)\n",
        "\tprint(mapping_char2num)\n",
        "\tprint(mapping_num2char)\n",
        "\t#Pads the X_train to get a uniform vector\n",
        "\t#TODO: Automate the selection instead of manual input\n",
        "\tX_train = sequence.pad_sequences(X_train[:], maxlen=maxlen)\n",
        "\treturn [X_train,mapping_num2char,mapping_char2num,charno]\n",
        "\n",
        "def RNN(X_train,y_train,args):\n",
        "\t\"\"\"\n",
        "\tPurpose -> Define and train the proposed LSTM network\n",
        "\tInput   -> Data, Labels and model hyperparameters\n",
        "\tOutput  -> Trained LSTM network\n",
        "\t\"\"\"\n",
        "\t#Sets the model hyperparameters\n",
        "\t#Embedding hyperparameters\n",
        "\tmax_features = args[0]\n",
        "\tmaxlen = args[1]\n",
        "\tembedding_size = args[2]\n",
        "\t# Convolution hyperparameters\n",
        "\tfilter_length = args[3]\n",
        "\tnb_filter = args[4]\n",
        "\tpool_length = args[5]\n",
        "\t# LSTM hyperparameters\n",
        "\tlstm_output_size = args[6]\n",
        "\t# Training hyperparameters\n",
        "\tbatch_size = args[7]\n",
        "\tnb_epoch = args[8]\n",
        "\tnumclasses = args[9]\n",
        "\ttest_size = args[10] \n",
        "\n",
        "\t#Format conversion for y_train for compatibility with Keras\n",
        "\ty_train = np_utils.to_categorical(y_train, numclasses) \n",
        "\t#Train & Validation data splitting\n",
        "\tX_train, X_valid, y_train, y_valid = train_test_split(X_train, y_train, test_size=test_size, random_state=42)\n",
        "\t\n",
        "\t#Build the sequential model\n",
        "\t# Model Architecture is:\n",
        "\t# Input -> Embedding -> Conv1D+Maxpool1D -> LSTM -> LSTM -> FC-1 -> Softmaxloss\n",
        "\tprint('Build model...')\n",
        "\tmodel = Sequential()\n",
        "\tmodel.add(Embedding(max_features, embedding_size, input_length=maxlen))\n",
        "\tmodel.add(Convolution1D(nb_filter=nb_filter,\n",
        "\t\t\t\t\t\t\tfilter_length=filter_length,\n",
        "\t\t\t\t\t\t\tborder_mode='valid',\n",
        "\t\t\t\t\t\t\tactivation='relu',\n",
        "\t\t\t\t\t\t\tsubsample_length=1))\n",
        "\tmodel.add(MaxPooling1D(pool_length=pool_length))\n",
        "\tmodel.add(LSTM(lstm_output_size, dropout_W=0.2, dropout_U=0.2, return_sequences=True))\n",
        "\tmodel.add(LSTM(lstm_output_size, dropout_W=0.2, dropout_U=0.2, return_sequences=False))\n",
        "\tmodel.add(Dense(numclasses))\n",
        "\tmodel.add(Activation('softmax'))\n",
        "\n",
        "\t# Optimizer is Adamax along with categorical crossentropy loss\n",
        "\tmodel.compile(loss='categorical_crossentropy',optimizer='adamax',metrics=['accuracy'])\n",
        "\t\n",
        "\n",
        "\tprint('Train...')\n",
        "\t#Trains model for 50 epochs with shuffling after every epoch for training data and validates on validation data\n",
        "\thistory=model.fit(X_train, y_train, batch_size=batch_size, shuffle=True, nb_epoch=nb_epoch,validation_data=(X_valid, y_valid))\n",
        "\treturn (model,history)\n",
        "\n",
        "\n",
        "\n",
        "def get_activations(model, layer, X_batch):\n",
        "\t\"\"\"\n",
        "\tPurpose -> Obtains outputs from any layer in Keras\n",
        "\tInput   -> Trained model, layer from which output needs to be extracted & files to be given as input\n",
        "\tOutput  -> Features from that layer \n",
        "\t\"\"\"\n",
        "\t#Referred from:- TODO: Enter the forum link from where I got this\n",
        "\tget_activations = K.function([model.layers[0].input, K.learning_phase()], [model.layers[layer].output,])\n",
        "\tactivations = get_activations([X_batch,0])\n",
        "\treturn activations\n",
        "\n",
        "def evaluate_model(X_test,y_test,model,batch_size,numclasses):\n",
        "\t\"\"\"\n",
        "\tPurpose -> Evaluate any model on the testing data\n",
        "\tInput   -> Testing data and labels, trained model and global variables\n",
        "\tOutput  -> Nil\n",
        "\t\"\"\"\n",
        "\t#Convert y_test to one-hot encoding\n",
        "\ty_test = np_utils.to_categorical(y_test, numclasses)\n",
        "\t#Evaluate the accuracies\n",
        "\tscore, acc = model.evaluate(X_test, y_test, batch_size=batch_size)\n",
        "\tprint('Test score:', score)\n",
        "\tprint('Test accuracy:', acc)\n",
        "\n",
        "\n"
      ],
      "execution_count": 0,
      "outputs": []
    },
    {
      "cell_type": "code",
      "metadata": {
        "id": "UksTFWGGDE6-",
        "colab_type": "code",
        "colab": {}
      },
      "source": [
        ""
      ],
      "execution_count": 0,
      "outputs": []
    },
    {
      "cell_type": "code",
      "metadata": {
        "id": "MQNC-ygp7Gmn",
        "colab_type": "code",
        "outputId": "c4f21709-0d44-4f12-aa03-045e88bf06a4",
        "colab": {
          "base_uri": "https://localhost:8080/",
          "height": 215
        }
      },
      "source": [
        "    print('Starting RNN Engine...\\nModel: Char-level LSTM.\\nParsing data files...')\n",
        "    out = parse(inputdatasetfilename)\n",
        "    global X_train\n",
        "    global y_train\n",
        "    global X_test\n",
        "    global y_test\n",
        "    X_train = out[0]\n",
        "    y_train = out[1]\n",
        "    print(y_train)\n",
        "    print('Parsing complete!')\n",
        "    print('Creating character dictionaries and format conversion in progess...')\n",
        "    out = convert_char2num(mapping_num2char,mapping_char2num,X_train,MAXLEN)\n",
        "    mapping_num2char = out[1]\n",
        "    mapping_char2num = out[2]\n",
        "    MAX_FEATURES = out[3]\n",
        "    X_train = np.asarray(out[0])\n",
        "    y_train = np.asarray(y_train).flatten()\n",
        "    print('Complete!')\n",
        "    print('Splitting data into train and test...')\n",
        "    X_train, X_test, y_train, y_test = train_test_split(X_train, y_train, test_size=0.2, random_state=42)\n",
        "    y_train=tf.keras.utils.to_categorical(y_train)\n",
        "    y_test=tf.keras.utils.to_categorical(y_test)\n"
      ],
      "execution_count": 0,
      "outputs": [
        {
          "output_type": "stream",
          "text": [
            "Starting RNN Engine...\n",
            "Model: Char-level LSTM.\n",
            "Parsing data files...\n",
            "[2 2 1 ... 2 2 2]\n",
            "Parsing complete!\n",
            "Creating character dictionaries and format conversion in progess...\n",
            "{'k': 0, 'p': 1, 'c': 2, 'd': 3, 'f': 4, 'y': 5, 'x': 6, ' ': 7, 's': 8, 'm': 9, 'r': 10, 'z': 11, 'e': 12, 'o': 13, 't': 14, 'w': 15, 'u': 16, 'b': 17, 'g': 18, 'q': 19, 'h': 20, 'i': 21, 'v': 22, 'n': 23, 'j': 24, 'l': 25, 'a': 26}\n",
            "{0: 'k', 1: 'p', 2: 'c', 3: 'd', 4: 'f', 5: 'y', 6: 'x', 7: ' ', 8: 's', 9: 'm', 10: 'r', 11: 'z', 12: 'e', 13: 'o', 14: 't', 15: 'w', 16: 'u', 17: 'b', 18: 'g', 19: 'q', 20: 'h', 21: 'i', 22: 'v', 23: 'n', 24: 'j', 25: 'l', 26: 'a'}\n",
            "Complete!\n",
            "Splitting data into train and test...\n"
          ],
          "name": "stdout"
        }
      ]
    },
    {
      "cell_type": "code",
      "metadata": {
        "id": "m-QD8NwuCtQ8",
        "colab_type": "code",
        "outputId": "ca1528da-b089-46c6-b58d-9f8b1f0006a8",
        "colab": {
          "base_uri": "https://localhost:8080/",
          "height": 197
        }
      },
      "source": [
        "!pip install scikit-optimize"
      ],
      "execution_count": 0,
      "outputs": [
        {
          "output_type": "stream",
          "text": [
            "Collecting scikit-optimize\n",
            "\u001b[?25l  Downloading https://files.pythonhosted.org/packages/f4/44/60f82c97d1caa98752c7da2c1681cab5c7a390a0fdd3a55fac672b321cac/scikit_optimize-0.5.2-py2.py3-none-any.whl (74kB)\n",
            "\u001b[K     |████████████████████████████████| 81kB 5.1MB/s \n",
            "\u001b[?25hRequirement already satisfied: scikit-learn>=0.19.1 in /usr/local/lib/python3.6/dist-packages (from scikit-optimize) (0.21.3)\n",
            "Requirement already satisfied: numpy in /usr/local/lib/python3.6/dist-packages (from scikit-optimize) (1.16.5)\n",
            "Requirement already satisfied: scipy>=0.14.0 in /usr/local/lib/python3.6/dist-packages (from scikit-optimize) (1.3.1)\n",
            "Requirement already satisfied: joblib>=0.11 in /usr/local/lib/python3.6/dist-packages (from scikit-learn>=0.19.1->scikit-optimize) (0.14.0)\n",
            "Installing collected packages: scikit-optimize\n",
            "Successfully installed scikit-optimize-0.5.2\n"
          ],
          "name": "stdout"
        }
      ]
    },
    {
      "cell_type": "code",
      "metadata": {
        "id": "2x8DHDnzGJMG",
        "colab_type": "code",
        "outputId": "36b0821c-d420-4928-edce-65f5de4715ad",
        "colab": {
          "base_uri": "https://localhost:8080/",
          "height": 72
        }
      },
      "source": [
        "#imports we know we'll need\n",
        "import skopt\n",
        "from skopt import gbrt_minimize, gp_minimize\n",
        "from skopt.utils import use_named_args\n",
        "from skopt.space import Real, Categorical, Integer\n",
        "from keras.optimizers import Adamax"
      ],
      "execution_count": 0,
      "outputs": [
        {
          "output_type": "stream",
          "text": [
            "/usr/local/lib/python3.6/dist-packages/sklearn/externals/joblib/__init__.py:15: DeprecationWarning: sklearn.externals.joblib is deprecated in 0.21 and will be removed in 0.23. Please import this functionality directly from joblib, which can be installed with: pip install joblib. If this warning is raised when loading pickled models, you may need to re-serialize those models with scikit-learn 0.21+.\n",
            "  warnings.warn(msg, category=DeprecationWarning)\n"
          ],
          "name": "stderr"
        }
      ]
    },
    {
      "cell_type": "code",
      "metadata": {
        "id": "H5reBG7yGnAC",
        "colab_type": "code",
        "colab": {}
      },
      "source": [
        "dim_learning_rate = Real(low=1e-4, high=1e-2, prior='log-uniform',\n",
        "                         name='learning_rate')\n",
        "dim_no_epoch = Integer(low=20, high=80, name='no_epoch')\n",
        "dim_embedding_size = Integer(low=16, high=256, name='embedding_size')\n",
        "dim_lstm_output_size = Integer(low=16, high=256, name='lstm_output_size')\n",
        "dim_pool_length =Integer(low=2,high=5,name='pool_length')\n",
        "dim_batch_size = Integer(low=1, high=128, name='batch_size')\n",
        "dim_adam_decay = Real(low=1e-6,high=1e-2,name=\"adam_decay\")\n",
        "dim_no_filter = Integer(low=16,high=256,name='no_filter')\n",
        "\n",
        "dimensions = [dim_learning_rate,\n",
        "              dim_batch_size,\n",
        "              dim_adam_decay,\n",
        "              dim_embedding_size,\n",
        "              dim_lstm_output_size,\n",
        "              dim_no_epoch,\n",
        "              dim_no_filter,\n",
        "             ]\n",
        "default_parameters = [1e-3,32,1e-3, 128,128,50,128]"
      ],
      "execution_count": 0,
      "outputs": []
    },
    {
      "cell_type": "code",
      "metadata": {
        "id": "8CGt78Ni96YK",
        "colab_type": "code",
        "colab": {}
      },
      "source": [
        "@use_named_args(dimensions=dimensions)\n",
        "def fitness(learning_rate,batch_size,adam_decay,embedding_size,lstm_output_size,no_epoch,no_filter):\n",
        "    model = Sequential()\n",
        "    model.add(Embedding(MAX_FEATURES, embedding_size, input_length=MAXLEN))\n",
        "    model.add(Convolution1D(nb_filter=no_filter,filter_length=filter_length,border_mode='valid',activation='relu',subsample_length=1))\n",
        "    model.add(MaxPooling1D(pool_length=pool_length))\n",
        "    model.add(LSTM(lstm_output_size, dropout_W=0.2, dropout_U=0.2, return_sequences=True))\n",
        "    model.add(LSTM(lstm_output_size, dropout_W=0.2, dropout_U=0.2, return_sequences=False))\n",
        "    model.add(Dense(numclasses))\n",
        "    model.add(Activation('softmax'))\n",
        "    \n",
        "    admax=Adamax(lr=learning_rate,decay=adam_decay)\n",
        "    \n",
        "    model.compile(loss='categorical_crossentropy',optimizer=admax,metrics=['accuracy'])\n",
        "    \n",
        "    X_train1,X_valid,y_train1,y_valid=train_test_split(X_train,y_train,test_size=0.2,random_state=42)\n",
        "    bb=model.fit(X_train1, y_train1, batch_size=batch_size, shuffle=True, nb_epoch=no_epoch,validation_data=(X_valid, y_valid))\n",
        "    \n",
        "    accuracy=bb.history['val_acc'][-1]\n",
        "    # Print the classification accuracy.\n",
        "    print()\n",
        "    print(\"Accuracy: {0:.2%}\".format(accuracy))\n",
        "    print()\n",
        "\n",
        "\n",
        "    # Delete the Keras model with these hyper-parameters from memory.\n",
        "    del model\n",
        "    \n",
        "    # Clear the Keras session, otherwise it will keep adding new\n",
        "    # models to the same TensorFlow graph each time we create\n",
        "    # a model with a different set of hyper-parameters.\n",
        "    K.clear_session()\n",
        "    tf.reset_default_graph()\n",
        "    \n",
        "    return -accuracy"
      ],
      "execution_count": 0,
      "outputs": []
    },
    {
      "cell_type": "code",
      "metadata": {
        "id": "shGQLvmb9rbc",
        "colab_type": "code",
        "colab": {}
      },
      "source": [
        "K.clear_session()\n",
        "tf.reset_default_graph()"
      ],
      "execution_count": 0,
      "outputs": []
    },
    {
      "cell_type": "code",
      "metadata": {
        "id": "BTTq3DNMJrA3",
        "colab_type": "code",
        "outputId": "bd0439e9-72b2-4a4b-ae70-1de1ba89e2b3",
        "colab": {
          "base_uri": "https://localhost:8080/",
          "height": 1000
        }
      },
      "source": [
        "gp_result = gp_minimize(func=fitness,\n",
        "                            dimensions=dimensions,\n",
        "                            n_calls=12,\n",
        "                            noise= 0.01,\n",
        "                            n_jobs=-1,\n",
        "                            kappa = 5,\n",
        "                            x0=default_parameters)"
      ],
      "execution_count": 0,
      "outputs": [
        {
          "output_type": "stream",
          "text": [
            "WARNING:tensorflow:From /usr/local/lib/python3.6/dist-packages/keras/backend/tensorflow_backend.py:541: The name tf.placeholder is deprecated. Please use tf.compat.v1.placeholder instead.\n",
            "\n",
            "WARNING:tensorflow:From /usr/local/lib/python3.6/dist-packages/keras/backend/tensorflow_backend.py:4432: The name tf.random_uniform is deprecated. Please use tf.random.uniform instead.\n",
            "\n",
            "WARNING:tensorflow:From /usr/local/lib/python3.6/dist-packages/keras/backend/tensorflow_backend.py:4267: The name tf.nn.max_pool is deprecated. Please use tf.nn.max_pool2d instead.\n",
            "\n",
            "WARNING:tensorflow:From /usr/local/lib/python3.6/dist-packages/keras/backend/tensorflow_backend.py:3733: calling dropout (from tensorflow.python.ops.nn_ops) with keep_prob is deprecated and will be removed in a future version.\n",
            "Instructions for updating:\n",
            "Please use `rate` instead of `keep_prob`. Rate should be set to `rate = 1 - keep_prob`.\n"
          ],
          "name": "stdout"
        },
        {
          "output_type": "stream",
          "text": [
            "/usr/local/lib/python3.6/dist-packages/ipykernel_launcher.py:5: UserWarning: Update your `Conv1D` call to the Keras 2 API: `Conv1D(activation=\"relu\", filters=128, kernel_size=3, strides=1, padding=\"valid\")`\n",
            "  \"\"\"\n",
            "/usr/local/lib/python3.6/dist-packages/ipykernel_launcher.py:6: UserWarning: Update your `MaxPooling1D` call to the Keras 2 API: `MaxPooling1D(pool_size=3)`\n",
            "  \n",
            "/usr/local/lib/python3.6/dist-packages/ipykernel_launcher.py:7: UserWarning: Update your `LSTM` call to the Keras 2 API: `LSTM(128, return_sequences=True, dropout=0.2, recurrent_dropout=0.2)`\n",
            "  import sys\n",
            "/usr/local/lib/python3.6/dist-packages/ipykernel_launcher.py:8: UserWarning: Update your `LSTM` call to the Keras 2 API: `LSTM(128, return_sequences=False, dropout=0.2, recurrent_dropout=0.2)`\n",
            "  \n"
          ],
          "name": "stderr"
        },
        {
          "output_type": "stream",
          "text": [
            "WARNING:tensorflow:From /usr/local/lib/python3.6/dist-packages/keras/optimizers.py:793: The name tf.train.Optimizer is deprecated. Please use tf.compat.v1.train.Optimizer instead.\n",
            "\n",
            "WARNING:tensorflow:From /usr/local/lib/python3.6/dist-packages/keras/backend/tensorflow_backend.py:3576: The name tf.log is deprecated. Please use tf.math.log instead.\n",
            "\n",
            "WARNING:tensorflow:From /usr/local/lib/python3.6/dist-packages/tensorflow_core/python/ops/math_grad.py:1424: where (from tensorflow.python.ops.array_ops) is deprecated and will be removed in a future version.\n",
            "Instructions for updating:\n",
            "Use tf.where in 2.0, which has the same broadcast rule as np.where\n"
          ],
          "name": "stdout"
        },
        {
          "output_type": "stream",
          "text": [
            "/usr/local/lib/python3.6/dist-packages/ipykernel_launcher.py:17: UserWarning: The `nb_epoch` argument in `fit` has been renamed `epochs`.\n"
          ],
          "name": "stderr"
        },
        {
          "output_type": "stream",
          "text": [
            "WARNING:tensorflow:From /usr/local/lib/python3.6/dist-packages/keras/backend/tensorflow_backend.py:1033: The name tf.assign_add is deprecated. Please use tf.compat.v1.assign_add instead.\n",
            "\n",
            "WARNING:tensorflow:From /usr/local/lib/python3.6/dist-packages/keras/backend/tensorflow_backend.py:1020: The name tf.assign is deprecated. Please use tf.compat.v1.assign instead.\n",
            "\n",
            "WARNING:tensorflow:From /usr/local/lib/python3.6/dist-packages/keras/backend/tensorflow_backend.py:3005: The name tf.Session is deprecated. Please use tf.compat.v1.Session instead.\n",
            "\n",
            "Train on 2482 samples, validate on 621 samples\n",
            "Epoch 1/50\n",
            "WARNING:tensorflow:From /usr/local/lib/python3.6/dist-packages/keras/backend/tensorflow_backend.py:190: The name tf.get_default_session is deprecated. Please use tf.compat.v1.get_default_session instead.\n",
            "\n",
            "WARNING:tensorflow:From /usr/local/lib/python3.6/dist-packages/keras/backend/tensorflow_backend.py:197: The name tf.ConfigProto is deprecated. Please use tf.compat.v1.ConfigProto instead.\n",
            "\n",
            "WARNING:tensorflow:From /usr/local/lib/python3.6/dist-packages/keras/backend/tensorflow_backend.py:207: The name tf.global_variables is deprecated. Please use tf.compat.v1.global_variables instead.\n",
            "\n",
            "WARNING:tensorflow:From /usr/local/lib/python3.6/dist-packages/keras/backend/tensorflow_backend.py:216: The name tf.is_variable_initialized is deprecated. Please use tf.compat.v1.is_variable_initialized instead.\n",
            "\n",
            "WARNING:tensorflow:From /usr/local/lib/python3.6/dist-packages/keras/backend/tensorflow_backend.py:223: The name tf.variables_initializer is deprecated. Please use tf.compat.v1.variables_initializer instead.\n",
            "\n",
            "2482/2482 [==============================] - 34s 14ms/step - loss: 0.9921 - acc: 0.5032 - val_loss: 1.0013 - val_acc: 0.4815\n",
            "Epoch 2/50\n",
            "2482/2482 [==============================] - 26s 11ms/step - loss: 0.9642 - acc: 0.5085 - val_loss: 0.9877 - val_acc: 0.4895\n",
            "Epoch 3/50\n",
            "2482/2482 [==============================] - 26s 11ms/step - loss: 0.9528 - acc: 0.5383 - val_loss: 0.9674 - val_acc: 0.5072\n",
            "Epoch 4/50\n",
            "2482/2482 [==============================] - 26s 11ms/step - loss: 0.9344 - acc: 0.5403 - val_loss: 0.9503 - val_acc: 0.5121\n",
            "Epoch 5/50\n",
            "2482/2482 [==============================] - 27s 11ms/step - loss: 0.9132 - acc: 0.5564 - val_loss: 0.9270 - val_acc: 0.5475\n",
            "Epoch 6/50\n",
            "2482/2482 [==============================] - 26s 11ms/step - loss: 0.8931 - acc: 0.5838 - val_loss: 0.8990 - val_acc: 0.5717\n",
            "Epoch 7/50\n",
            "2482/2482 [==============================] - 26s 11ms/step - loss: 0.8746 - acc: 0.5854 - val_loss: 0.8938 - val_acc: 0.5668\n",
            "Epoch 8/50\n",
            "2482/2482 [==============================] - 26s 11ms/step - loss: 0.8558 - acc: 0.6015 - val_loss: 0.8926 - val_acc: 0.5668\n",
            "Epoch 9/50\n",
            "2482/2482 [==============================] - 26s 11ms/step - loss: 0.8506 - acc: 0.6027 - val_loss: 0.8961 - val_acc: 0.5749\n",
            "Epoch 10/50\n",
            "2482/2482 [==============================] - 27s 11ms/step - loss: 0.8514 - acc: 0.6011 - val_loss: 0.8815 - val_acc: 0.5813\n",
            "Epoch 11/50\n",
            "2482/2482 [==============================] - 27s 11ms/step - loss: 0.8337 - acc: 0.6124 - val_loss: 0.8860 - val_acc: 0.5813\n",
            "Epoch 12/50\n",
            "2482/2482 [==============================] - 26s 11ms/step - loss: 0.8284 - acc: 0.6172 - val_loss: 0.8793 - val_acc: 0.5910\n",
            "Epoch 13/50\n",
            "2482/2482 [==============================] - 26s 11ms/step - loss: 0.8225 - acc: 0.6172 - val_loss: 0.8636 - val_acc: 0.5829\n",
            "Epoch 14/50\n",
            "2482/2482 [==============================] - 26s 11ms/step - loss: 0.8143 - acc: 0.6326 - val_loss: 0.8580 - val_acc: 0.5942\n",
            "Epoch 15/50\n",
            "2482/2482 [==============================] - 27s 11ms/step - loss: 0.8153 - acc: 0.6148 - val_loss: 0.8576 - val_acc: 0.5862\n",
            "Epoch 16/50\n",
            "2482/2482 [==============================] - 26s 11ms/step - loss: 0.8078 - acc: 0.6285 - val_loss: 0.8540 - val_acc: 0.5894\n",
            "Epoch 17/50\n",
            "2482/2482 [==============================] - 26s 11ms/step - loss: 0.8080 - acc: 0.6305 - val_loss: 0.8481 - val_acc: 0.6023\n",
            "Epoch 18/50\n",
            "2482/2482 [==============================] - 27s 11ms/step - loss: 0.7944 - acc: 0.6390 - val_loss: 0.8466 - val_acc: 0.6006\n",
            "Epoch 19/50\n",
            "2482/2482 [==============================] - 26s 11ms/step - loss: 0.7956 - acc: 0.6350 - val_loss: 0.8494 - val_acc: 0.5829\n",
            "Epoch 20/50\n",
            "2482/2482 [==============================] - 26s 11ms/step - loss: 0.7848 - acc: 0.6289 - val_loss: 0.8460 - val_acc: 0.6071\n",
            "Epoch 21/50\n",
            "2482/2482 [==============================] - 26s 11ms/step - loss: 0.7944 - acc: 0.6362 - val_loss: 0.8493 - val_acc: 0.6023\n",
            "Epoch 22/50\n",
            "2482/2482 [==============================] - 26s 11ms/step - loss: 0.7837 - acc: 0.6495 - val_loss: 0.8534 - val_acc: 0.6039\n",
            "Epoch 23/50\n",
            "2482/2482 [==============================] - 26s 11ms/step - loss: 0.7882 - acc: 0.6378 - val_loss: 0.8370 - val_acc: 0.5958\n",
            "Epoch 24/50\n",
            "2482/2482 [==============================] - 26s 11ms/step - loss: 0.7812 - acc: 0.6430 - val_loss: 0.8400 - val_acc: 0.6006\n",
            "Epoch 25/50\n",
            "2482/2482 [==============================] - 26s 10ms/step - loss: 0.7675 - acc: 0.6527 - val_loss: 0.8533 - val_acc: 0.5958\n",
            "Epoch 26/50\n",
            "2482/2482 [==============================] - 26s 10ms/step - loss: 0.7760 - acc: 0.6511 - val_loss: 0.8446 - val_acc: 0.6023\n",
            "Epoch 27/50\n",
            "2482/2482 [==============================] - 26s 11ms/step - loss: 0.7584 - acc: 0.6523 - val_loss: 0.8347 - val_acc: 0.5942\n",
            "Epoch 28/50\n",
            "2482/2482 [==============================] - 26s 11ms/step - loss: 0.7602 - acc: 0.6656 - val_loss: 0.8531 - val_acc: 0.6006\n",
            "Epoch 29/50\n",
            "2482/2482 [==============================] - 26s 10ms/step - loss: 0.7586 - acc: 0.6471 - val_loss: 0.8373 - val_acc: 0.5958\n",
            "Epoch 30/50\n",
            "2482/2482 [==============================] - 26s 10ms/step - loss: 0.7574 - acc: 0.6632 - val_loss: 0.8334 - val_acc: 0.6023\n",
            "Epoch 31/50\n",
            "2482/2482 [==============================] - 26s 10ms/step - loss: 0.7463 - acc: 0.6692 - val_loss: 0.8201 - val_acc: 0.6055\n",
            "Epoch 32/50\n",
            "2482/2482 [==============================] - 26s 10ms/step - loss: 0.7373 - acc: 0.6628 - val_loss: 0.8288 - val_acc: 0.6200\n",
            "Epoch 33/50\n",
            "2482/2482 [==============================] - 26s 11ms/step - loss: 0.7394 - acc: 0.6664 - val_loss: 0.8314 - val_acc: 0.6071\n",
            "Epoch 34/50\n",
            "2482/2482 [==============================] - 26s 11ms/step - loss: 0.7474 - acc: 0.6624 - val_loss: 0.8256 - val_acc: 0.5974\n",
            "Epoch 35/50\n",
            "2482/2482 [==============================] - 26s 11ms/step - loss: 0.7470 - acc: 0.6612 - val_loss: 0.8386 - val_acc: 0.6087\n",
            "Epoch 36/50\n",
            "2482/2482 [==============================] - 26s 11ms/step - loss: 0.7450 - acc: 0.6720 - val_loss: 0.8168 - val_acc: 0.5990\n",
            "Epoch 37/50\n",
            "2482/2482 [==============================] - 27s 11ms/step - loss: 0.7412 - acc: 0.6720 - val_loss: 0.8319 - val_acc: 0.6071\n",
            "Epoch 38/50\n",
            "2482/2482 [==============================] - 26s 11ms/step - loss: 0.7254 - acc: 0.6809 - val_loss: 0.8454 - val_acc: 0.5958\n",
            "Epoch 39/50\n",
            "2482/2482 [==============================] - 26s 11ms/step - loss: 0.7383 - acc: 0.6757 - val_loss: 0.8312 - val_acc: 0.6055\n",
            "Epoch 40/50\n",
            "2482/2482 [==============================] - 26s 11ms/step - loss: 0.7316 - acc: 0.6849 - val_loss: 0.8163 - val_acc: 0.6103\n",
            "Epoch 41/50\n",
            "2482/2482 [==============================] - 26s 11ms/step - loss: 0.7251 - acc: 0.6829 - val_loss: 0.8165 - val_acc: 0.6087\n",
            "Epoch 42/50\n",
            "2482/2482 [==============================] - 26s 11ms/step - loss: 0.7214 - acc: 0.6829 - val_loss: 0.8113 - val_acc: 0.6216\n",
            "Epoch 43/50\n",
            "2482/2482 [==============================] - 26s 11ms/step - loss: 0.7177 - acc: 0.6906 - val_loss: 0.8199 - val_acc: 0.6103\n",
            "Epoch 44/50\n",
            "2482/2482 [==============================] - 26s 11ms/step - loss: 0.7085 - acc: 0.6894 - val_loss: 0.8508 - val_acc: 0.5974\n",
            "Epoch 45/50\n",
            "2482/2482 [==============================] - 26s 11ms/step - loss: 0.7202 - acc: 0.6841 - val_loss: 0.8124 - val_acc: 0.6167\n",
            "Epoch 46/50\n",
            "2482/2482 [==============================] - 26s 11ms/step - loss: 0.7052 - acc: 0.6926 - val_loss: 0.8124 - val_acc: 0.6167\n",
            "Epoch 47/50\n",
            "2482/2482 [==============================] - 26s 11ms/step - loss: 0.7067 - acc: 0.6958 - val_loss: 0.8163 - val_acc: 0.6151\n",
            "Epoch 48/50\n",
            "2482/2482 [==============================] - 26s 11ms/step - loss: 0.7055 - acc: 0.6922 - val_loss: 0.8285 - val_acc: 0.6184\n",
            "Epoch 49/50\n",
            "2482/2482 [==============================] - 26s 10ms/step - loss: 0.7067 - acc: 0.6865 - val_loss: 0.8166 - val_acc: 0.6151\n",
            "Epoch 50/50\n",
            "2482/2482 [==============================] - 26s 11ms/step - loss: 0.7084 - acc: 0.6849 - val_loss: 0.8185 - val_acc: 0.6167\n",
            "\n",
            "Accuracy: 61.67%\n",
            "\n"
          ],
          "name": "stdout"
        },
        {
          "output_type": "stream",
          "text": [
            "/usr/local/lib/python3.6/dist-packages/ipykernel_launcher.py:5: UserWarning: Update your `Conv1D` call to the Keras 2 API: `Conv1D(activation=\"relu\", filters=226, kernel_size=3, strides=1, padding=\"valid\")`\n",
            "  \"\"\"\n",
            "/usr/local/lib/python3.6/dist-packages/ipykernel_launcher.py:6: UserWarning: Update your `MaxPooling1D` call to the Keras 2 API: `MaxPooling1D(pool_size=3)`\n",
            "  \n",
            "/usr/local/lib/python3.6/dist-packages/ipykernel_launcher.py:7: UserWarning: Update your `LSTM` call to the Keras 2 API: `LSTM(129, return_sequences=True, dropout=0.2, recurrent_dropout=0.2)`\n",
            "  import sys\n",
            "/usr/local/lib/python3.6/dist-packages/ipykernel_launcher.py:8: UserWarning: Update your `LSTM` call to the Keras 2 API: `LSTM(129, return_sequences=False, dropout=0.2, recurrent_dropout=0.2)`\n",
            "  \n",
            "/usr/local/lib/python3.6/dist-packages/ipykernel_launcher.py:17: UserWarning: The `nb_epoch` argument in `fit` has been renamed `epochs`.\n"
          ],
          "name": "stderr"
        },
        {
          "output_type": "stream",
          "text": [
            "Train on 2482 samples, validate on 621 samples\n",
            "Epoch 1/26\n",
            "2482/2482 [==============================] - 10s 4ms/step - loss: 1.0413 - acc: 0.5008 - val_loss: 1.0188 - val_acc: 0.4815\n",
            "Epoch 2/26\n",
            "2482/2482 [==============================] - 7s 3ms/step - loss: 0.9926 - acc: 0.5089 - val_loss: 1.0066 - val_acc: 0.4815\n",
            "Epoch 3/26\n",
            "2482/2482 [==============================] - 7s 3ms/step - loss: 0.9828 - acc: 0.5089 - val_loss: 1.0009 - val_acc: 0.4815\n",
            "Epoch 4/26\n",
            "2482/2482 [==============================] - 7s 3ms/step - loss: 0.9749 - acc: 0.5089 - val_loss: 0.9978 - val_acc: 0.4815\n",
            "Epoch 5/26\n",
            "2482/2482 [==============================] - 7s 3ms/step - loss: 0.9704 - acc: 0.5089 - val_loss: 0.9966 - val_acc: 0.4815\n",
            "Epoch 6/26\n",
            "2482/2482 [==============================] - 7s 3ms/step - loss: 0.9673 - acc: 0.5097 - val_loss: 0.9921 - val_acc: 0.4815\n",
            "Epoch 7/26\n",
            "2482/2482 [==============================] - 8s 3ms/step - loss: 0.9661 - acc: 0.5101 - val_loss: 0.9936 - val_acc: 0.4815\n",
            "Epoch 8/26\n",
            "2482/2482 [==============================] - 7s 3ms/step - loss: 0.9666 - acc: 0.5101 - val_loss: 0.9913 - val_acc: 0.4831\n",
            "Epoch 9/26\n",
            "2482/2482 [==============================] - 7s 3ms/step - loss: 0.9675 - acc: 0.5205 - val_loss: 0.9910 - val_acc: 0.4847\n",
            "Epoch 10/26\n",
            "2482/2482 [==============================] - 7s 3ms/step - loss: 0.9631 - acc: 0.5141 - val_loss: 0.9922 - val_acc: 0.4847\n",
            "Epoch 11/26\n",
            "2482/2482 [==============================] - 7s 3ms/step - loss: 0.9640 - acc: 0.5181 - val_loss: 0.9909 - val_acc: 0.4863\n",
            "Epoch 12/26\n",
            "2482/2482 [==============================] - 7s 3ms/step - loss: 0.9599 - acc: 0.5193 - val_loss: 0.9905 - val_acc: 0.4879\n",
            "Epoch 13/26\n",
            "2482/2482 [==============================] - 7s 3ms/step - loss: 0.9583 - acc: 0.5230 - val_loss: 0.9902 - val_acc: 0.4863\n",
            "Epoch 14/26\n",
            "2482/2482 [==============================] - 8s 3ms/step - loss: 0.9581 - acc: 0.5262 - val_loss: 0.9906 - val_acc: 0.4879\n",
            "Epoch 15/26\n",
            "2482/2482 [==============================] - 7s 3ms/step - loss: 0.9611 - acc: 0.5302 - val_loss: 0.9884 - val_acc: 0.4895\n",
            "Epoch 16/26\n",
            "2482/2482 [==============================] - 7s 3ms/step - loss: 0.9590 - acc: 0.5222 - val_loss: 0.9887 - val_acc: 0.4895\n",
            "Epoch 17/26\n",
            "2482/2482 [==============================] - 7s 3ms/step - loss: 0.9594 - acc: 0.5262 - val_loss: 0.9894 - val_acc: 0.4879\n",
            "Epoch 18/26\n",
            "2482/2482 [==============================] - 7s 3ms/step - loss: 0.9565 - acc: 0.5330 - val_loss: 0.9872 - val_acc: 0.4879\n",
            "Epoch 19/26\n",
            "2482/2482 [==============================] - 7s 3ms/step - loss: 0.9583 - acc: 0.5346 - val_loss: 0.9883 - val_acc: 0.4879\n",
            "Epoch 20/26\n",
            "2482/2482 [==============================] - 7s 3ms/step - loss: 0.9572 - acc: 0.5282 - val_loss: 0.9870 - val_acc: 0.4879\n",
            "Epoch 21/26\n",
            "2482/2482 [==============================] - 7s 3ms/step - loss: 0.9590 - acc: 0.5310 - val_loss: 0.9864 - val_acc: 0.4879\n",
            "Epoch 22/26\n",
            "2482/2482 [==============================] - 7s 3ms/step - loss: 0.9581 - acc: 0.5302 - val_loss: 0.9861 - val_acc: 0.4879\n",
            "Epoch 23/26\n",
            "2482/2482 [==============================] - 7s 3ms/step - loss: 0.9525 - acc: 0.5351 - val_loss: 0.9861 - val_acc: 0.4879\n",
            "Epoch 24/26\n",
            "2482/2482 [==============================] - 7s 3ms/step - loss: 0.9542 - acc: 0.5334 - val_loss: 0.9848 - val_acc: 0.4911\n",
            "Epoch 25/26\n",
            "2482/2482 [==============================] - 8s 3ms/step - loss: 0.9537 - acc: 0.5395 - val_loss: 0.9851 - val_acc: 0.4960\n",
            "Epoch 26/26\n",
            "2482/2482 [==============================] - 7s 3ms/step - loss: 0.9531 - acc: 0.5334 - val_loss: 0.9858 - val_acc: 0.4944\n",
            "\n",
            "Accuracy: 49.44%\n",
            "\n"
          ],
          "name": "stdout"
        },
        {
          "output_type": "stream",
          "text": [
            "/usr/local/lib/python3.6/dist-packages/ipykernel_launcher.py:5: UserWarning: Update your `Conv1D` call to the Keras 2 API: `Conv1D(activation=\"relu\", filters=142, kernel_size=3, strides=1, padding=\"valid\")`\n",
            "  \"\"\"\n",
            "/usr/local/lib/python3.6/dist-packages/ipykernel_launcher.py:6: UserWarning: Update your `MaxPooling1D` call to the Keras 2 API: `MaxPooling1D(pool_size=3)`\n",
            "  \n",
            "/usr/local/lib/python3.6/dist-packages/ipykernel_launcher.py:7: UserWarning: Update your `LSTM` call to the Keras 2 API: `LSTM(152, return_sequences=True, dropout=0.2, recurrent_dropout=0.2)`\n",
            "  import sys\n",
            "/usr/local/lib/python3.6/dist-packages/ipykernel_launcher.py:8: UserWarning: Update your `LSTM` call to the Keras 2 API: `LSTM(152, return_sequences=False, dropout=0.2, recurrent_dropout=0.2)`\n",
            "  \n",
            "/usr/local/lib/python3.6/dist-packages/ipykernel_launcher.py:17: UserWarning: The `nb_epoch` argument in `fit` has been renamed `epochs`.\n"
          ],
          "name": "stderr"
        },
        {
          "output_type": "stream",
          "text": [
            "Train on 2482 samples, validate on 621 samples\n",
            "Epoch 1/39\n",
            "2482/2482 [==============================] - 12s 5ms/step - loss: 0.9983 - acc: 0.5012 - val_loss: 0.9894 - val_acc: 0.4960\n",
            "Epoch 2/39\n",
            "2482/2482 [==============================] - 10s 4ms/step - loss: 0.9624 - acc: 0.5165 - val_loss: 0.9881 - val_acc: 0.4944\n",
            "Epoch 3/39\n",
            "2482/2482 [==============================] - 9s 4ms/step - loss: 0.9508 - acc: 0.5254 - val_loss: 0.9712 - val_acc: 0.5105\n",
            "Epoch 4/39\n",
            "2482/2482 [==============================] - 9s 4ms/step - loss: 0.9280 - acc: 0.5528 - val_loss: 0.9535 - val_acc: 0.5072\n",
            "Epoch 5/39\n",
            "2482/2482 [==============================] - 9s 4ms/step - loss: 0.9063 - acc: 0.5681 - val_loss: 0.9447 - val_acc: 0.5282\n",
            "Epoch 6/39\n",
            "2482/2482 [==============================] - 10s 4ms/step - loss: 0.8904 - acc: 0.5782 - val_loss: 0.9074 - val_acc: 0.5523\n",
            "Epoch 7/39\n",
            "2482/2482 [==============================] - 9s 4ms/step - loss: 0.8636 - acc: 0.6019 - val_loss: 0.9064 - val_acc: 0.5475\n",
            "Epoch 8/39\n",
            "2482/2482 [==============================] - 9s 4ms/step - loss: 0.8618 - acc: 0.5979 - val_loss: 0.8919 - val_acc: 0.5700\n",
            "Epoch 9/39\n",
            "2482/2482 [==============================] - 9s 4ms/step - loss: 0.8522 - acc: 0.5979 - val_loss: 0.8774 - val_acc: 0.5668\n",
            "Epoch 10/39\n",
            "2482/2482 [==============================] - 9s 4ms/step - loss: 0.8395 - acc: 0.6152 - val_loss: 0.8707 - val_acc: 0.5813\n",
            "Epoch 11/39\n",
            "2482/2482 [==============================] - 9s 4ms/step - loss: 0.8348 - acc: 0.6185 - val_loss: 0.8637 - val_acc: 0.5829\n",
            "Epoch 12/39\n",
            "2482/2482 [==============================] - 9s 4ms/step - loss: 0.8263 - acc: 0.6245 - val_loss: 0.8808 - val_acc: 0.5700\n",
            "Epoch 13/39\n",
            "2482/2482 [==============================] - 9s 4ms/step - loss: 0.8224 - acc: 0.6293 - val_loss: 0.8626 - val_acc: 0.5862\n",
            "Epoch 14/39\n",
            "2482/2482 [==============================] - 9s 4ms/step - loss: 0.8161 - acc: 0.6237 - val_loss: 0.8621 - val_acc: 0.5733\n",
            "Epoch 15/39\n",
            "2482/2482 [==============================] - 9s 4ms/step - loss: 0.8164 - acc: 0.6297 - val_loss: 0.8599 - val_acc: 0.5813\n",
            "Epoch 16/39\n",
            "2482/2482 [==============================] - 10s 4ms/step - loss: 0.8069 - acc: 0.6261 - val_loss: 0.8511 - val_acc: 0.5894\n",
            "Epoch 17/39\n",
            "2482/2482 [==============================] - 9s 4ms/step - loss: 0.7918 - acc: 0.6499 - val_loss: 0.8670 - val_acc: 0.5829\n",
            "Epoch 18/39\n",
            "2482/2482 [==============================] - 9s 4ms/step - loss: 0.7891 - acc: 0.6495 - val_loss: 0.8607 - val_acc: 0.5910\n",
            "Epoch 19/39\n",
            "2482/2482 [==============================] - 9s 4ms/step - loss: 0.7971 - acc: 0.6463 - val_loss: 0.8602 - val_acc: 0.5910\n",
            "Epoch 20/39\n",
            "2482/2482 [==============================] - 9s 4ms/step - loss: 0.7878 - acc: 0.6467 - val_loss: 0.8469 - val_acc: 0.5990\n",
            "Epoch 21/39\n",
            "2482/2482 [==============================] - 9s 4ms/step - loss: 0.7727 - acc: 0.6519 - val_loss: 0.8409 - val_acc: 0.5958\n",
            "Epoch 22/39\n",
            "2482/2482 [==============================] - 9s 4ms/step - loss: 0.7729 - acc: 0.6567 - val_loss: 0.8423 - val_acc: 0.5942\n",
            "Epoch 23/39\n",
            "2482/2482 [==============================] - 9s 4ms/step - loss: 0.7713 - acc: 0.6555 - val_loss: 0.8458 - val_acc: 0.5974\n",
            "Epoch 24/39\n",
            "2482/2482 [==============================] - 9s 4ms/step - loss: 0.7684 - acc: 0.6579 - val_loss: 0.8471 - val_acc: 0.5894\n",
            "Epoch 25/39\n",
            "2482/2482 [==============================] - 9s 4ms/step - loss: 0.7804 - acc: 0.6446 - val_loss: 0.8363 - val_acc: 0.6055\n",
            "Epoch 26/39\n",
            "2482/2482 [==============================] - 9s 4ms/step - loss: 0.7632 - acc: 0.6543 - val_loss: 0.8506 - val_acc: 0.6023\n",
            "Epoch 27/39\n",
            "2482/2482 [==============================] - 9s 4ms/step - loss: 0.7614 - acc: 0.6668 - val_loss: 0.8397 - val_acc: 0.5942\n",
            "Epoch 28/39\n",
            "2482/2482 [==============================] - 9s 4ms/step - loss: 0.7509 - acc: 0.6688 - val_loss: 0.8327 - val_acc: 0.6103\n",
            "Epoch 29/39\n",
            "2482/2482 [==============================] - 9s 4ms/step - loss: 0.7554 - acc: 0.6648 - val_loss: 0.8402 - val_acc: 0.6055\n",
            "Epoch 30/39\n",
            "2482/2482 [==============================] - 9s 4ms/step - loss: 0.7519 - acc: 0.6648 - val_loss: 0.8336 - val_acc: 0.6087\n",
            "Epoch 31/39\n",
            "2482/2482 [==============================] - 9s 4ms/step - loss: 0.7456 - acc: 0.6793 - val_loss: 0.8266 - val_acc: 0.6103\n",
            "Epoch 32/39\n",
            "2482/2482 [==============================] - 10s 4ms/step - loss: 0.7450 - acc: 0.6700 - val_loss: 0.8389 - val_acc: 0.6216\n",
            "Epoch 33/39\n",
            "2482/2482 [==============================] - 9s 4ms/step - loss: 0.7403 - acc: 0.6708 - val_loss: 0.8343 - val_acc: 0.6167\n",
            "Epoch 34/39\n",
            "2482/2482 [==============================] - 9s 4ms/step - loss: 0.7386 - acc: 0.6720 - val_loss: 0.8438 - val_acc: 0.6167\n",
            "Epoch 35/39\n",
            "2482/2482 [==============================] - 9s 4ms/step - loss: 0.7392 - acc: 0.6757 - val_loss: 0.8266 - val_acc: 0.6103\n",
            "Epoch 36/39\n",
            "2482/2482 [==============================] - 9s 4ms/step - loss: 0.7347 - acc: 0.6781 - val_loss: 0.8223 - val_acc: 0.6087\n",
            "Epoch 37/39\n",
            "2482/2482 [==============================] - 9s 4ms/step - loss: 0.7438 - acc: 0.6749 - val_loss: 0.8240 - val_acc: 0.6119\n",
            "Epoch 38/39\n",
            "2482/2482 [==============================] - 10s 4ms/step - loss: 0.7405 - acc: 0.6805 - val_loss: 0.8271 - val_acc: 0.6151\n",
            "Epoch 39/39\n",
            "2482/2482 [==============================] - 9s 4ms/step - loss: 0.7356 - acc: 0.6724 - val_loss: 0.8257 - val_acc: 0.6151\n",
            "\n",
            "Accuracy: 61.51%\n",
            "\n"
          ],
          "name": "stdout"
        },
        {
          "output_type": "stream",
          "text": [
            "/usr/local/lib/python3.6/dist-packages/ipykernel_launcher.py:5: UserWarning: Update your `Conv1D` call to the Keras 2 API: `Conv1D(activation=\"relu\", filters=94, kernel_size=3, strides=1, padding=\"valid\")`\n",
            "  \"\"\"\n",
            "/usr/local/lib/python3.6/dist-packages/ipykernel_launcher.py:6: UserWarning: Update your `MaxPooling1D` call to the Keras 2 API: `MaxPooling1D(pool_size=3)`\n",
            "  \n",
            "/usr/local/lib/python3.6/dist-packages/ipykernel_launcher.py:7: UserWarning: Update your `LSTM` call to the Keras 2 API: `LSTM(244, return_sequences=True, dropout=0.2, recurrent_dropout=0.2)`\n",
            "  import sys\n",
            "/usr/local/lib/python3.6/dist-packages/ipykernel_launcher.py:8: UserWarning: Update your `LSTM` call to the Keras 2 API: `LSTM(244, return_sequences=False, dropout=0.2, recurrent_dropout=0.2)`\n",
            "  \n",
            "/usr/local/lib/python3.6/dist-packages/ipykernel_launcher.py:17: UserWarning: The `nb_epoch` argument in `fit` has been renamed `epochs`.\n"
          ],
          "name": "stderr"
        },
        {
          "output_type": "stream",
          "text": [
            "Train on 2482 samples, validate on 621 samples\n",
            "Epoch 1/40\n",
            "2482/2482 [==============================] - 64s 26ms/step - loss: 0.9869 - acc: 0.5073 - val_loss: 0.9915 - val_acc: 0.4815\n",
            "Epoch 2/40\n",
            "2482/2482 [==============================] - 61s 25ms/step - loss: 0.9671 - acc: 0.5121 - val_loss: 0.9846 - val_acc: 0.4911\n",
            "Epoch 3/40\n",
            "2482/2482 [==============================] - 62s 25ms/step - loss: 0.9606 - acc: 0.5250 - val_loss: 0.9978 - val_acc: 0.4944\n",
            "Epoch 4/40\n",
            "2482/2482 [==============================] - 61s 25ms/step - loss: 0.9490 - acc: 0.5379 - val_loss: 0.9750 - val_acc: 0.4992\n",
            "Epoch 5/40\n",
            "2482/2482 [==============================] - 62s 25ms/step - loss: 0.9440 - acc: 0.5443 - val_loss: 0.9649 - val_acc: 0.4767\n",
            "Epoch 6/40\n",
            "2482/2482 [==============================] - 61s 25ms/step - loss: 0.9298 - acc: 0.5564 - val_loss: 0.9669 - val_acc: 0.5056\n",
            "Epoch 7/40\n",
            "2482/2482 [==============================] - 61s 25ms/step - loss: 0.9196 - acc: 0.5564 - val_loss: 0.9489 - val_acc: 0.5105\n",
            "Epoch 8/40\n",
            "2482/2482 [==============================] - 61s 25ms/step - loss: 0.9022 - acc: 0.5649 - val_loss: 0.9361 - val_acc: 0.5024\n",
            "Epoch 9/40\n",
            "2482/2482 [==============================] - 62s 25ms/step - loss: 0.8950 - acc: 0.5749 - val_loss: 0.9207 - val_acc: 0.5443\n",
            "Epoch 10/40\n",
            "2482/2482 [==============================] - 61s 25ms/step - loss: 0.8868 - acc: 0.5689 - val_loss: 0.9181 - val_acc: 0.5475\n",
            "Epoch 11/40\n",
            "2482/2482 [==============================] - 60s 24ms/step - loss: 0.8772 - acc: 0.5919 - val_loss: 0.9199 - val_acc: 0.5588\n",
            "Epoch 12/40\n",
            "2482/2482 [==============================] - 61s 25ms/step - loss: 0.8783 - acc: 0.5749 - val_loss: 0.9059 - val_acc: 0.5556\n",
            "Epoch 13/40\n",
            "2482/2482 [==============================] - 62s 25ms/step - loss: 0.8744 - acc: 0.5778 - val_loss: 0.9079 - val_acc: 0.5604\n",
            "Epoch 14/40\n",
            "2482/2482 [==============================] - 63s 26ms/step - loss: 0.8714 - acc: 0.5874 - val_loss: 0.8989 - val_acc: 0.5572\n",
            "Epoch 15/40\n",
            "2282/2482 [==========================>...] - ETA: 4s - loss: 0.8680 - acc: 0.5868"
          ],
          "name": "stdout"
        }
      ]
    },
    {
      "cell_type": "code",
      "metadata": {
        "id": "ccJ4et_UGAa9",
        "colab_type": "code",
        "outputId": "ef318660-ff6e-4c5f-b251-b9695fb5e183",
        "colab": {
          "base_uri": "https://localhost:8080/",
          "height": 188
        }
      },
      "source": [
        "!pip install scikit-optimize"
      ],
      "execution_count": 0,
      "outputs": [
        {
          "output_type": "stream",
          "text": [
            "Collecting scikit-optimize\n",
            "\u001b[?25l  Downloading https://files.pythonhosted.org/packages/f4/44/60f82c97d1caa98752c7da2c1681cab5c7a390a0fdd3a55fac672b321cac/scikit_optimize-0.5.2-py2.py3-none-any.whl (74kB)\n",
            "\u001b[K     |████████████████████████████████| 81kB 6.8MB/s \n",
            "\u001b[?25hRequirement already satisfied: numpy in /usr/local/lib/python3.6/dist-packages (from scikit-optimize) (1.16.4)\n",
            "Requirement already satisfied: scipy>=0.14.0 in /usr/local/lib/python3.6/dist-packages (from scikit-optimize) (1.3.0)\n",
            "Requirement already satisfied: scikit-learn>=0.19.1 in /usr/local/lib/python3.6/dist-packages (from scikit-optimize) (0.21.3)\n",
            "Requirement already satisfied: joblib>=0.11 in /usr/local/lib/python3.6/dist-packages (from scikit-learn>=0.19.1->scikit-optimize) (0.13.2)\n",
            "Installing collected packages: scikit-optimize\n",
            "Successfully installed scikit-optimize-0.5.2\n"
          ],
          "name": "stdout"
        }
      ]
    },
    {
      "cell_type": "code",
      "metadata": {
        "id": "8bHYqnWj8nQB",
        "colab_type": "code",
        "outputId": "579eb83a-1a3d-4e24-f825-c86ac872cc92",
        "colab": {
          "base_uri": "https://localhost:8080/",
          "height": 286
        }
      },
      "source": [
        "import matplotlib.pyplot as plt\n",
        "plt.plot(history.history['val_loss'],'r')\n",
        "plt.plot(history.history['val_acc'],'r')\n",
        "plt.plot(history.history['loss'],'b')\n",
        "plt.plot(history.history['acc'],'b')\n"
      ],
      "execution_count": 0,
      "outputs": [
        {
          "output_type": "execute_result",
          "data": {
            "text/plain": [
              "[<matplotlib.lines.Line2D at 0x7f6a1f47cd30>]"
            ]
          },
          "metadata": {
            "tags": []
          },
          "execution_count": 29
        },
        {
          "output_type": "display_data",
          "data": {
            "image/png": "[encoded data removed]",
            "text/plain": [
              "<Figure size 432x288 with 1 Axes>"
            ]
          },
          "metadata": {
            "tags": []
          }
        }
      ]
    },
    {
      "cell_type": "code",
      "metadata": {
        "id": "YYTWjj76_GYN",
        "colab_type": "code",
        "outputId": "aa5076a7-9f04-4e25-b4a1-7aca60fec3a8",
        "colab": {
          "base_uri": "https://localhost:8080/",
          "height": 128
        }
      },
      "source": [
        ""
      ],
      "execution_count": 0,
      "outputs": [
        {
          "output_type": "error",
          "ename": "SyntaxError",
          "evalue": "ignored",
          "traceback": [
            "\u001b[0;36m  File \u001b[0;32m\"<ipython-input-15-1209fb88269b>\"\u001b[0;36m, line \u001b[0;32m1\u001b[0m\n\u001b[0;31m    python -tt scriptname.py\u001b[0m\n\u001b[0m                        ^\u001b[0m\n\u001b[0;31mSyntaxError\u001b[0m\u001b[0;31m:\u001b[0m invalid syntax\n"
          ]
        }
      ]
    },
    {
      "cell_type": "code",
      "metadata": {
        "id": "woybl9dm7SBW",
        "colab_type": "code",
        "colab": {}
      },
      "source": [
        ""
      ],
      "execution_count": 0,
      "outputs": []
    }
  ]
}